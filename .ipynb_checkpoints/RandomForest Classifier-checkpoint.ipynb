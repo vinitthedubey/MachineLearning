{
 "cells": [
  {
   "cell_type": "code",
   "execution_count": 1,
   "id": "a644fd67",
   "metadata": {},
   "outputs": [],
   "source": [
    "import seaborn as sns"
   ]
  },
  {
   "cell_type": "code",
   "execution_count": 2,
   "id": "5ca90e0d",
   "metadata": {},
   "outputs": [],
   "source": [
    "df=sns.load_dataset(\"tips\")"
   ]
  },
  {
   "cell_type": "code",
   "execution_count": 3,
   "id": "c065f213",
   "metadata": {},
   "outputs": [
    {
     "data": {
      "text/html": [
       "<div>\n",
       "<style scoped>\n",
       "    .dataframe tbody tr th:only-of-type {\n",
       "        vertical-align: middle;\n",
       "    }\n",
       "\n",
       "    .dataframe tbody tr th {\n",
       "        vertical-align: top;\n",
       "    }\n",
       "\n",
       "    .dataframe thead th {\n",
       "        text-align: right;\n",
       "    }\n",
       "</style>\n",
       "<table border=\"1\" class=\"dataframe\">\n",
       "  <thead>\n",
       "    <tr style=\"text-align: right;\">\n",
       "      <th></th>\n",
       "      <th>total_bill</th>\n",
       "      <th>tip</th>\n",
       "      <th>sex</th>\n",
       "      <th>smoker</th>\n",
       "      <th>day</th>\n",
       "      <th>time</th>\n",
       "      <th>size</th>\n",
       "    </tr>\n",
       "  </thead>\n",
       "  <tbody>\n",
       "    <tr>\n",
       "      <th>0</th>\n",
       "      <td>16.99</td>\n",
       "      <td>1.01</td>\n",
       "      <td>Female</td>\n",
       "      <td>No</td>\n",
       "      <td>Sun</td>\n",
       "      <td>Dinner</td>\n",
       "      <td>2</td>\n",
       "    </tr>\n",
       "    <tr>\n",
       "      <th>1</th>\n",
       "      <td>10.34</td>\n",
       "      <td>1.66</td>\n",
       "      <td>Male</td>\n",
       "      <td>No</td>\n",
       "      <td>Sun</td>\n",
       "      <td>Dinner</td>\n",
       "      <td>3</td>\n",
       "    </tr>\n",
       "    <tr>\n",
       "      <th>2</th>\n",
       "      <td>21.01</td>\n",
       "      <td>3.50</td>\n",
       "      <td>Male</td>\n",
       "      <td>No</td>\n",
       "      <td>Sun</td>\n",
       "      <td>Dinner</td>\n",
       "      <td>3</td>\n",
       "    </tr>\n",
       "    <tr>\n",
       "      <th>3</th>\n",
       "      <td>23.68</td>\n",
       "      <td>3.31</td>\n",
       "      <td>Male</td>\n",
       "      <td>No</td>\n",
       "      <td>Sun</td>\n",
       "      <td>Dinner</td>\n",
       "      <td>2</td>\n",
       "    </tr>\n",
       "    <tr>\n",
       "      <th>4</th>\n",
       "      <td>24.59</td>\n",
       "      <td>3.61</td>\n",
       "      <td>Female</td>\n",
       "      <td>No</td>\n",
       "      <td>Sun</td>\n",
       "      <td>Dinner</td>\n",
       "      <td>4</td>\n",
       "    </tr>\n",
       "    <tr>\n",
       "      <th>...</th>\n",
       "      <td>...</td>\n",
       "      <td>...</td>\n",
       "      <td>...</td>\n",
       "      <td>...</td>\n",
       "      <td>...</td>\n",
       "      <td>...</td>\n",
       "      <td>...</td>\n",
       "    </tr>\n",
       "    <tr>\n",
       "      <th>239</th>\n",
       "      <td>29.03</td>\n",
       "      <td>5.92</td>\n",
       "      <td>Male</td>\n",
       "      <td>No</td>\n",
       "      <td>Sat</td>\n",
       "      <td>Dinner</td>\n",
       "      <td>3</td>\n",
       "    </tr>\n",
       "    <tr>\n",
       "      <th>240</th>\n",
       "      <td>27.18</td>\n",
       "      <td>2.00</td>\n",
       "      <td>Female</td>\n",
       "      <td>Yes</td>\n",
       "      <td>Sat</td>\n",
       "      <td>Dinner</td>\n",
       "      <td>2</td>\n",
       "    </tr>\n",
       "    <tr>\n",
       "      <th>241</th>\n",
       "      <td>22.67</td>\n",
       "      <td>2.00</td>\n",
       "      <td>Male</td>\n",
       "      <td>Yes</td>\n",
       "      <td>Sat</td>\n",
       "      <td>Dinner</td>\n",
       "      <td>2</td>\n",
       "    </tr>\n",
       "    <tr>\n",
       "      <th>242</th>\n",
       "      <td>17.82</td>\n",
       "      <td>1.75</td>\n",
       "      <td>Male</td>\n",
       "      <td>No</td>\n",
       "      <td>Sat</td>\n",
       "      <td>Dinner</td>\n",
       "      <td>2</td>\n",
       "    </tr>\n",
       "    <tr>\n",
       "      <th>243</th>\n",
       "      <td>18.78</td>\n",
       "      <td>3.00</td>\n",
       "      <td>Female</td>\n",
       "      <td>No</td>\n",
       "      <td>Thur</td>\n",
       "      <td>Dinner</td>\n",
       "      <td>2</td>\n",
       "    </tr>\n",
       "  </tbody>\n",
       "</table>\n",
       "<p>244 rows × 7 columns</p>\n",
       "</div>"
      ],
      "text/plain": [
       "     total_bill   tip     sex smoker   day    time  size\n",
       "0         16.99  1.01  Female     No   Sun  Dinner     2\n",
       "1         10.34  1.66    Male     No   Sun  Dinner     3\n",
       "2         21.01  3.50    Male     No   Sun  Dinner     3\n",
       "3         23.68  3.31    Male     No   Sun  Dinner     2\n",
       "4         24.59  3.61  Female     No   Sun  Dinner     4\n",
       "..          ...   ...     ...    ...   ...     ...   ...\n",
       "239       29.03  5.92    Male     No   Sat  Dinner     3\n",
       "240       27.18  2.00  Female    Yes   Sat  Dinner     2\n",
       "241       22.67  2.00    Male    Yes   Sat  Dinner     2\n",
       "242       17.82  1.75    Male     No   Sat  Dinner     2\n",
       "243       18.78  3.00  Female     No  Thur  Dinner     2\n",
       "\n",
       "[244 rows x 7 columns]"
      ]
     },
     "execution_count": 3,
     "metadata": {},
     "output_type": "execute_result"
    }
   ],
   "source": [
    "df"
   ]
  },
  {
   "cell_type": "code",
   "execution_count": 4,
   "id": "d8800839",
   "metadata": {},
   "outputs": [],
   "source": [
    "#converting categorical value in numerical value\n",
    "from sklearn.preprocessing import LabelEncoder"
   ]
  },
  {
   "cell_type": "code",
   "execution_count": 5,
   "id": "21300e46",
   "metadata": {},
   "outputs": [],
   "source": [
    "lb=LabelEncoder()"
   ]
  },
  {
   "cell_type": "code",
   "execution_count": 6,
   "id": "fd45495b",
   "metadata": {},
   "outputs": [],
   "source": [
    "#time is output value\n",
    "df['time']=lb.fit_transform(df['time'])"
   ]
  },
  {
   "cell_type": "code",
   "execution_count": 7,
   "id": "c39a7204",
   "metadata": {},
   "outputs": [],
   "source": [
    "#dependent and indepenent\n",
    "\n",
    "X=df.drop(labels=['time'],axis=1)\n",
    "y=df['time']"
   ]
  },
  {
   "cell_type": "code",
   "execution_count": 8,
   "id": "cfaaa03b",
   "metadata": {},
   "outputs": [],
   "source": [
    "from sklearn.model_selection import train_test_split\n",
    "X_train, X_test, y_train, y_test = train_test_split(\n",
    "    X, y, test_size=0.33, random_state=42)"
   ]
  },
  {
   "cell_type": "code",
   "execution_count": 9,
   "id": "10641357",
   "metadata": {},
   "outputs": [
    {
     "data": {
      "text/plain": [
       "array([0, 1])"
      ]
     },
     "execution_count": 9,
     "metadata": {},
     "output_type": "execute_result"
    }
   ],
   "source": [
    "df['time'].unique()"
   ]
  },
  {
   "cell_type": "code",
   "execution_count": 10,
   "id": "1ee0b804",
   "metadata": {},
   "outputs": [],
   "source": [
    "from sklearn.impute import SimpleImputer ## Handling Missing Values\n",
    "from sklearn.preprocessing import OneHotEncoder## handling Categorical features\n",
    "from sklearn.preprocessing import StandardScaler## Feature scaling\n",
    "from sklearn.pipeline import Pipeline\n",
    "from sklearn.compose import ColumnTransformer\n",
    "## Automating the entire"
   ]
  },
  {
   "cell_type": "code",
   "execution_count": 11,
   "id": "7b4b2435",
   "metadata": {},
   "outputs": [],
   "source": [
    "categorical_cols = ['sex', 'smoker','day']\n",
    "numerical_cols = ['total_bill', 'tip','size']"
   ]
  },
  {
   "cell_type": "code",
   "execution_count": 12,
   "id": "2c245984",
   "metadata": {},
   "outputs": [],
   "source": [
    "## Feature Engineering Automation\n",
    "num_pipeline=Pipeline(\n",
    "    steps=[\n",
    "        ('imputer',SimpleImputer(strategy='median')), ##missing values\n",
    "        ('scaler',StandardScaler())## feature scaling \n",
    "    ]\n",
    "\n",
    ")\n",
    "\n",
    "#categorical Pipeline\n",
    "cat_pipeline=Pipeline(\n",
    "                steps=[\n",
    "                ('imputer',SimpleImputer(strategy='most_frequent')), ## handling Missing values\n",
    "                ('onehotencoder',OneHotEncoder()) ## Categorical features to numerical\n",
    "                ]\n",
    "\n",
    "            )  \n"
   ]
  },
  {
   "cell_type": "code",
   "execution_count": 13,
   "id": "d4325c88",
   "metadata": {},
   "outputs": [],
   "source": [
    "preprocessor=ColumnTransformer([\n",
    "    ('num_pipeline',num_pipeline,numerical_cols),\n",
    "    ('cat_pipeline',cat_pipeline,categorical_cols)\n",
    "\n",
    "])"
   ]
  },
  {
   "cell_type": "code",
   "execution_count": 14,
   "id": "30f943d0",
   "metadata": {},
   "outputs": [],
   "source": [
    "X_train=preprocessor.fit_transform(X_train)\n",
    "X_test=preprocessor.transform(X_test)"
   ]
  },
  {
   "cell_type": "code",
   "execution_count": 15,
   "id": "df58cd3f",
   "metadata": {},
   "outputs": [],
   "source": [
    "from sklearn.ensemble import RandomForestClassifier\n",
    "from sklearn.tree import DecisionTreeClassifier\n",
    "from sklearn.svm import SVC"
   ]
  },
  {
   "cell_type": "code",
   "execution_count": 16,
   "id": "3f525ac3",
   "metadata": {},
   "outputs": [],
   "source": [
    "## Automate Model Training Process\n",
    "models={\n",
    "    'Random Forest':RandomForestClassifier(),\n",
    "    'Decision Tree':DecisionTreeClassifier(),\n",
    "    'SVC':SVC()\n",
    "\n",
    "}"
   ]
  },
  {
   "cell_type": "code",
   "execution_count": 17,
   "id": "92a7ed95",
   "metadata": {},
   "outputs": [],
   "source": [
    "from sklearn.metrics import accuracy_score"
   ]
  },
  {
   "cell_type": "code",
   "execution_count": 18,
   "id": "ba3c5d5d",
   "metadata": {},
   "outputs": [],
   "source": [
    "def evaluate_model(X_train,y_train,X_test,y_test,models):\n",
    "    \n",
    "    report = {}\n",
    "    for i in range(len(models)):\n",
    "        model = list(models.values())[i]\n",
    "        # Train model\n",
    "        model.fit(X_train,y_train)\n",
    "\n",
    "            \n",
    "\n",
    "        # Predict Testing data\n",
    "        y_test_pred =model.predict(X_test)\n",
    "\n",
    "        # Get accuracy for test data prediction\n",
    "       \n",
    "        test_model_score = accuracy_score(y_test,y_test_pred)\n",
    "\n",
    "        report[list(models.keys())[i]] =  test_model_score\n",
    "            \n",
    "\n",
    "            \n",
    "    return report"
   ]
  },
  {
   "cell_type": "code",
   "execution_count": 19,
   "id": "1aa45a9a",
   "metadata": {},
   "outputs": [
    {
     "data": {
      "text/plain": [
       "{'Random Forest': 0.9629629629629629,\n",
       " 'Decision Tree': 0.9506172839506173,\n",
       " 'SVC': 0.9753086419753086}"
      ]
     },
     "execution_count": 19,
     "metadata": {},
     "output_type": "execute_result"
    }
   ],
   "source": [
    "evaluate_model(X_train,y_train,X_test,y_test,models)"
   ]
  },
  {
   "cell_type": "code",
   "execution_count": 20,
   "id": "2da79474",
   "metadata": {},
   "outputs": [],
   "source": [
    "classifier=RandomForestClassifier()"
   ]
  },
  {
   "cell_type": "code",
   "execution_count": 21,
   "id": "9e518fd2",
   "metadata": {},
   "outputs": [],
   "source": [
    "## Hypeparameter Tuning\n",
    "params={'max_depth':[3,5,10,None],\n",
    "              'n_estimators':[100,200,300],\n",
    "               'criterion':['gini','entropy']\n",
    "              }"
   ]
  },
  {
   "cell_type": "code",
   "execution_count": 22,
   "id": "fa6cb3bb",
   "metadata": {},
   "outputs": [],
   "source": [
    "from sklearn.model_selection import RandomizedSearchCV"
   ]
  },
  {
   "cell_type": "code",
   "execution_count": 23,
   "id": "0512f8d8",
   "metadata": {},
   "outputs": [
    {
     "name": "stdout",
     "output_type": "stream",
     "text": [
      "Fitting 5 folds for each of 10 candidates, totalling 50 fits\n",
      "[CV 1/5] END criterion=entropy, max_depth=10, n_estimators=300;, score=0.939 total time=   0.2s\n",
      "[CV 2/5] END criterion=entropy, max_depth=10, n_estimators=300;, score=0.939 total time=   0.2s\n",
      "[CV 3/5] END criterion=entropy, max_depth=10, n_estimators=300;, score=0.909 total time=   0.2s\n",
      "[CV 4/5] END criterion=entropy, max_depth=10, n_estimators=300;, score=0.906 total time=   0.2s\n",
      "[CV 5/5] END criterion=entropy, max_depth=10, n_estimators=300;, score=0.906 total time=   0.2s\n",
      "[CV 1/5] END criterion=entropy, max_depth=10, n_estimators=200;, score=0.939 total time=   0.1s\n",
      "[CV 2/5] END criterion=entropy, max_depth=10, n_estimators=200;, score=0.970 total time=   0.1s\n",
      "[CV 3/5] END criterion=entropy, max_depth=10, n_estimators=200;, score=0.909 total time=   0.1s\n",
      "[CV 4/5] END criterion=entropy, max_depth=10, n_estimators=200;, score=0.906 total time=   0.2s\n",
      "[CV 5/5] END criterion=entropy, max_depth=10, n_estimators=200;, score=0.906 total time=   0.1s\n",
      "[CV 1/5] END criterion=gini, max_depth=None, n_estimators=100;, score=0.970 total time=   0.0s\n",
      "[CV 2/5] END criterion=gini, max_depth=None, n_estimators=100;, score=0.939 total time=   0.0s\n",
      "[CV 3/5] END criterion=gini, max_depth=None, n_estimators=100;, score=0.909 total time=   0.0s\n",
      "[CV 4/5] END criterion=gini, max_depth=None, n_estimators=100;, score=0.969 total time=   0.0s\n",
      "[CV 5/5] END criterion=gini, max_depth=None, n_estimators=100;, score=0.906 total time=   0.0s\n",
      "[CV 1/5] END criterion=gini, max_depth=3, n_estimators=300;, score=0.970 total time=   0.2s\n",
      "[CV 2/5] END criterion=gini, max_depth=3, n_estimators=300;, score=1.000 total time=   0.2s\n",
      "[CV 3/5] END criterion=gini, max_depth=3, n_estimators=300;, score=0.909 total time=   0.1s\n",
      "[CV 4/5] END criterion=gini, max_depth=3, n_estimators=300;, score=0.938 total time=   0.2s\n",
      "[CV 5/5] END criterion=gini, max_depth=3, n_estimators=300;, score=0.938 total time=   0.2s\n",
      "[CV 1/5] END criterion=gini, max_depth=3, n_estimators=200;, score=0.970 total time=   0.2s\n",
      "[CV 2/5] END criterion=gini, max_depth=3, n_estimators=200;, score=0.970 total time=   0.1s\n",
      "[CV 3/5] END criterion=gini, max_depth=3, n_estimators=200;, score=0.909 total time=   0.1s\n",
      "[CV 4/5] END criterion=gini, max_depth=3, n_estimators=200;, score=0.938 total time=   0.1s\n",
      "[CV 5/5] END criterion=gini, max_depth=3, n_estimators=200;, score=0.938 total time=   0.1s\n",
      "[CV 1/5] END criterion=gini, max_depth=5, n_estimators=300;, score=0.970 total time=   0.2s\n",
      "[CV 2/5] END criterion=gini, max_depth=5, n_estimators=300;, score=0.970 total time=   0.1s\n",
      "[CV 3/5] END criterion=gini, max_depth=5, n_estimators=300;, score=0.909 total time=   0.2s\n",
      "[CV 4/5] END criterion=gini, max_depth=5, n_estimators=300;, score=0.969 total time=   0.1s\n",
      "[CV 5/5] END criterion=gini, max_depth=5, n_estimators=300;, score=0.906 total time=   0.2s\n",
      "[CV 1/5] END criterion=entropy, max_depth=None, n_estimators=200;, score=0.939 total time=   0.1s\n",
      "[CV 2/5] END criterion=entropy, max_depth=None, n_estimators=200;, score=0.970 total time=   0.1s\n",
      "[CV 3/5] END criterion=entropy, max_depth=None, n_estimators=200;, score=0.909 total time=   0.1s\n",
      "[CV 4/5] END criterion=entropy, max_depth=None, n_estimators=200;, score=0.906 total time=   0.1s\n",
      "[CV 5/5] END criterion=entropy, max_depth=None, n_estimators=200;, score=0.906 total time=   0.1s\n",
      "[CV 1/5] END criterion=gini, max_depth=10, n_estimators=100;, score=0.939 total time=   0.0s\n",
      "[CV 2/5] END criterion=gini, max_depth=10, n_estimators=100;, score=0.970 total time=   0.0s\n",
      "[CV 3/5] END criterion=gini, max_depth=10, n_estimators=100;, score=0.939 total time=   0.0s\n",
      "[CV 4/5] END criterion=gini, max_depth=10, n_estimators=100;, score=0.938 total time=   0.0s\n",
      "[CV 5/5] END criterion=gini, max_depth=10, n_estimators=100;, score=0.906 total time=   0.0s\n",
      "[CV 1/5] END criterion=entropy, max_depth=None, n_estimators=100;, score=0.939 total time=   0.0s\n",
      "[CV 2/5] END criterion=entropy, max_depth=None, n_estimators=100;, score=0.970 total time=   0.0s\n",
      "[CV 3/5] END criterion=entropy, max_depth=None, n_estimators=100;, score=0.909 total time=   0.0s\n",
      "[CV 4/5] END criterion=entropy, max_depth=None, n_estimators=100;, score=0.906 total time=   0.0s\n",
      "[CV 5/5] END criterion=entropy, max_depth=None, n_estimators=100;, score=0.906 total time=   0.0s\n",
      "[CV 1/5] END criterion=entropy, max_depth=3, n_estimators=100;, score=0.970 total time=   0.0s\n",
      "[CV 2/5] END criterion=entropy, max_depth=3, n_estimators=100;, score=1.000 total time=   0.0s\n",
      "[CV 3/5] END criterion=entropy, max_depth=3, n_estimators=100;, score=0.909 total time=   0.0s\n",
      "[CV 4/5] END criterion=entropy, max_depth=3, n_estimators=100;, score=0.938 total time=   0.0s\n",
      "[CV 5/5] END criterion=entropy, max_depth=3, n_estimators=100;, score=0.938 total time=   0.0s\n"
     ]
    },
    {
     "data": {
      "text/html": [
       "<style>#sk-container-id-1 {color: black;background-color: white;}#sk-container-id-1 pre{padding: 0;}#sk-container-id-1 div.sk-toggleable {background-color: white;}#sk-container-id-1 label.sk-toggleable__label {cursor: pointer;display: block;width: 100%;margin-bottom: 0;padding: 0.3em;box-sizing: border-box;text-align: center;}#sk-container-id-1 label.sk-toggleable__label-arrow:before {content: \"▸\";float: left;margin-right: 0.25em;color: #696969;}#sk-container-id-1 label.sk-toggleable__label-arrow:hover:before {color: black;}#sk-container-id-1 div.sk-estimator:hover label.sk-toggleable__label-arrow:before {color: black;}#sk-container-id-1 div.sk-toggleable__content {max-height: 0;max-width: 0;overflow: hidden;text-align: left;background-color: #f0f8ff;}#sk-container-id-1 div.sk-toggleable__content pre {margin: 0.2em;color: black;border-radius: 0.25em;background-color: #f0f8ff;}#sk-container-id-1 input.sk-toggleable__control:checked~div.sk-toggleable__content {max-height: 200px;max-width: 100%;overflow: auto;}#sk-container-id-1 input.sk-toggleable__control:checked~label.sk-toggleable__label-arrow:before {content: \"▾\";}#sk-container-id-1 div.sk-estimator input.sk-toggleable__control:checked~label.sk-toggleable__label {background-color: #d4ebff;}#sk-container-id-1 div.sk-label input.sk-toggleable__control:checked~label.sk-toggleable__label {background-color: #d4ebff;}#sk-container-id-1 input.sk-hidden--visually {border: 0;clip: rect(1px 1px 1px 1px);clip: rect(1px, 1px, 1px, 1px);height: 1px;margin: -1px;overflow: hidden;padding: 0;position: absolute;width: 1px;}#sk-container-id-1 div.sk-estimator {font-family: monospace;background-color: #f0f8ff;border: 1px dotted black;border-radius: 0.25em;box-sizing: border-box;margin-bottom: 0.5em;}#sk-container-id-1 div.sk-estimator:hover {background-color: #d4ebff;}#sk-container-id-1 div.sk-parallel-item::after {content: \"\";width: 100%;border-bottom: 1px solid gray;flex-grow: 1;}#sk-container-id-1 div.sk-label:hover label.sk-toggleable__label {background-color: #d4ebff;}#sk-container-id-1 div.sk-serial::before {content: \"\";position: absolute;border-left: 1px solid gray;box-sizing: border-box;top: 0;bottom: 0;left: 50%;z-index: 0;}#sk-container-id-1 div.sk-serial {display: flex;flex-direction: column;align-items: center;background-color: white;padding-right: 0.2em;padding-left: 0.2em;position: relative;}#sk-container-id-1 div.sk-item {position: relative;z-index: 1;}#sk-container-id-1 div.sk-parallel {display: flex;align-items: stretch;justify-content: center;background-color: white;position: relative;}#sk-container-id-1 div.sk-item::before, #sk-container-id-1 div.sk-parallel-item::before {content: \"\";position: absolute;border-left: 1px solid gray;box-sizing: border-box;top: 0;bottom: 0;left: 50%;z-index: -1;}#sk-container-id-1 div.sk-parallel-item {display: flex;flex-direction: column;z-index: 1;position: relative;background-color: white;}#sk-container-id-1 div.sk-parallel-item:first-child::after {align-self: flex-end;width: 50%;}#sk-container-id-1 div.sk-parallel-item:last-child::after {align-self: flex-start;width: 50%;}#sk-container-id-1 div.sk-parallel-item:only-child::after {width: 0;}#sk-container-id-1 div.sk-dashed-wrapped {border: 1px dashed gray;margin: 0 0.4em 0.5em 0.4em;box-sizing: border-box;padding-bottom: 0.4em;background-color: white;}#sk-container-id-1 div.sk-label label {font-family: monospace;font-weight: bold;display: inline-block;line-height: 1.2em;}#sk-container-id-1 div.sk-label-container {text-align: center;}#sk-container-id-1 div.sk-container {/* jupyter's `normalize.less` sets `[hidden] { display: none; }` but bootstrap.min.css set `[hidden] { display: none !important; }` so we also need the `!important` here to be able to override the default hidden behavior on the sphinx rendered scikit-learn.org. See: https://github.com/scikit-learn/scikit-learn/issues/21755 */display: inline-block !important;position: relative;}#sk-container-id-1 div.sk-text-repr-fallback {display: none;}</style><div id=\"sk-container-id-1\" class=\"sk-top-container\"><div class=\"sk-text-repr-fallback\"><pre>RandomizedSearchCV(cv=5, estimator=RandomForestClassifier(),\n",
       "                   param_distributions={&#x27;criterion&#x27;: [&#x27;gini&#x27;, &#x27;entropy&#x27;],\n",
       "                                        &#x27;max_depth&#x27;: [3, 5, 10, None],\n",
       "                                        &#x27;n_estimators&#x27;: [100, 200, 300]},\n",
       "                   scoring=&#x27;accuracy&#x27;, verbose=3)</pre><b>In a Jupyter environment, please rerun this cell to show the HTML representation or trust the notebook. <br />On GitHub, the HTML representation is unable to render, please try loading this page with nbviewer.org.</b></div><div class=\"sk-container\" hidden><div class=\"sk-item sk-dashed-wrapped\"><div class=\"sk-label-container\"><div class=\"sk-label sk-toggleable\"><input class=\"sk-toggleable__control sk-hidden--visually\" id=\"sk-estimator-id-1\" type=\"checkbox\" ><label for=\"sk-estimator-id-1\" class=\"sk-toggleable__label sk-toggleable__label-arrow\">RandomizedSearchCV</label><div class=\"sk-toggleable__content\"><pre>RandomizedSearchCV(cv=5, estimator=RandomForestClassifier(),\n",
       "                   param_distributions={&#x27;criterion&#x27;: [&#x27;gini&#x27;, &#x27;entropy&#x27;],\n",
       "                                        &#x27;max_depth&#x27;: [3, 5, 10, None],\n",
       "                                        &#x27;n_estimators&#x27;: [100, 200, 300]},\n",
       "                   scoring=&#x27;accuracy&#x27;, verbose=3)</pre></div></div></div><div class=\"sk-parallel\"><div class=\"sk-parallel-item\"><div class=\"sk-item\"><div class=\"sk-label-container\"><div class=\"sk-label sk-toggleable\"><input class=\"sk-toggleable__control sk-hidden--visually\" id=\"sk-estimator-id-2\" type=\"checkbox\" ><label for=\"sk-estimator-id-2\" class=\"sk-toggleable__label sk-toggleable__label-arrow\">estimator: RandomForestClassifier</label><div class=\"sk-toggleable__content\"><pre>RandomForestClassifier()</pre></div></div></div><div class=\"sk-serial\"><div class=\"sk-item\"><div class=\"sk-estimator sk-toggleable\"><input class=\"sk-toggleable__control sk-hidden--visually\" id=\"sk-estimator-id-3\" type=\"checkbox\" ><label for=\"sk-estimator-id-3\" class=\"sk-toggleable__label sk-toggleable__label-arrow\">RandomForestClassifier</label><div class=\"sk-toggleable__content\"><pre>RandomForestClassifier()</pre></div></div></div></div></div></div></div></div></div></div>"
      ],
      "text/plain": [
       "RandomizedSearchCV(cv=5, estimator=RandomForestClassifier(),\n",
       "                   param_distributions={'criterion': ['gini', 'entropy'],\n",
       "                                        'max_depth': [3, 5, 10, None],\n",
       "                                        'n_estimators': [100, 200, 300]},\n",
       "                   scoring='accuracy', verbose=3)"
      ]
     },
     "execution_count": 23,
     "metadata": {},
     "output_type": "execute_result"
    }
   ],
   "source": [
    "cv=RandomizedSearchCV(classifier,param_distributions=params,scoring='accuracy',cv=5,verbose=3)\n",
    "cv.fit(X_train,y_train)"
   ]
  },
  {
   "cell_type": "code",
   "execution_count": 24,
   "id": "20c30820",
   "metadata": {},
   "outputs": [
    {
     "data": {
      "text/plain": [
       "{'n_estimators': 300, 'max_depth': 3, 'criterion': 'gini'}"
      ]
     },
     "execution_count": 24,
     "metadata": {},
     "output_type": "execute_result"
    }
   ],
   "source": [
    "cv.best_params_"
   ]
  },
  {
   "cell_type": "code",
   "execution_count": 25,
   "id": "1ff131c5",
   "metadata": {},
   "outputs": [
    {
     "data": {
      "text/plain": [
       "0.9507575757575758"
      ]
     },
     "execution_count": 25,
     "metadata": {},
     "output_type": "execute_result"
    }
   ],
   "source": [
    "cv.best_score_"
   ]
  },
  {
   "cell_type": "code",
   "execution_count": null,
   "id": "8f35f896",
   "metadata": {},
   "outputs": [],
   "source": []
  }
 ],
 "metadata": {
  "kernelspec": {
   "display_name": "Python 3 (ipykernel)",
   "language": "python",
   "name": "python3"
  },
  "language_info": {
   "codemirror_mode": {
    "name": "ipython",
    "version": 3
   },
   "file_extension": ".py",
   "mimetype": "text/x-python",
   "name": "python",
   "nbconvert_exporter": "python",
   "pygments_lexer": "ipython3",
   "version": "3.11.3"
  }
 },
 "nbformat": 4,
 "nbformat_minor": 5
}
